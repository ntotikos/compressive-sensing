{
 "cells": [
  {
   "cell_type": "markdown",
   "metadata": {},
   "source": [
    "# $\\color{teal}{\\text{4.3 Iterative Hard Thresholding}}$\n",
    "The so-called restricted isometry property (RIP) of matrices gives a hint on whether the sparse recovery algorithm will succeed or not. It is NP-hard to show that a given matrix fullfilles the RIP, but fortunately a theorem assures that subgaussian random matrices with i.i.d. entries satisfy the RIP with high probability. Therefore, we are going to use the numpy function `random.randn()` to generate the corresponding measurement matrix $A$.\n",
    "\n",
    "\n",
    "The iterative hard thresholding (IHT) algorithm is based on non-convex optimization. Hence, it converges to local minima and depends on the initialization of `x_0` (commomly with the all-zero vector). In following we will implement the general setup of CS, i.e. generate the measurement matrix $A$ and the measurements $y$ based on the true vector `x_true` that is randomly generated. "
   ]
  },
  {
   "cell_type": "code",
   "execution_count": null,
   "metadata": {
    "scrolled": true
   },
   "outputs": [],
   "source": [
    "import numpy as np\n",
    "import random\n",
    "import math\n",
    "\n",
    "\n",
    "#iht:\n",
    "m = 300\n",
    "N = 1000\n",
    "s = 10\n",
    "\n",
    "#omp\n",
    "#m = 200\n",
    "#N = 175\n",
    "#s = 30\n",
    "\n",
    "#ground truth\n",
    "x_true = np.zeros(N)\n",
    "indices = random.sample(range(N),s) #randomly sample s out of 1000 indices\n",
    "x_true[indices] = np.random.rand(s)\n",
    "\n",
    "#random measurement matrix\n",
    "A = np.random.randn(m,N)\n",
    "A = A/math.sqrt(m)\n",
    "#simulated measurements\n",
    "y = A @ x_true"
   ]
  },
  {
   "cell_type": "markdown",
   "metadata": {},
   "source": [
    "In each iteration of the IHT algorithm we calculate \n",
    "\n",
    "$$x^{(k+1)} = \\mathcal{H}_s\\{x^{(k)} + A^{*}(y-Ax^{(k)})\\}$$\n",
    "\n",
    "where $\\mathcal{H}_s$ denotes the hard thresholding operator of order $s$ and $A^{*}$ the hermitian of $A$. By applying $\\mathcal{H}_s$ we take only the $s$ entries with the largest absolute values and set the other ones to zero, thus ensuring the sparsity $s$ of $x^{(k+1)}$. "
   ]
  },
  {
   "cell_type": "code",
   "execution_count": null,
   "metadata": {},
   "outputs": [],
   "source": [
    "def H_s(x_tmp,s):\n",
    "    \"\"\"Hard-thresholding operator: keep the s largest entries of z and set the other ones to zero.\"\"\"\n",
    "    N = x_tmp.shape[0]\n",
    "    x_new = np.zeros(N)\n",
    "    indices = x_tmp.argsort()[-s:]\n",
    "    x_new[indices] = x_tmp[indices]\n",
    "    return x_new"
   ]
  },
  {
   "cell_type": "code",
   "execution_count": null,
   "metadata": {},
   "outputs": [],
   "source": [
    "def iht(A, y, s, iters):\n",
    "    \"\"\"Implementation of the IHT.\"\"\"\n",
    "    [m,N] = A.shape\n",
    "    x_0 = np.zeros(N)\n",
    "    \n",
    "    #hermitian of A\n",
    "    A_H = A.conjugate().transpose()\n",
    "    \n",
    "    x_iters = []\n",
    "    err_iters = np.zeros(iters)\n",
    "    x_hat = np.zeros(N)\n",
    "    \n",
    "    from tqdm import tqdm\n",
    "    for i in tqdm(range(iters)):\n",
    "        if i==0:\n",
    "            x_k = x_0\n",
    "        else:\n",
    "            x_k = H_s(x_k + A_H@(y - A@x_k),s)\n",
    "            #@TODO: iteratively plot x_k and x_true\n",
    "            #print(f\"x_hat_{i}: {[val for val in x_k if val!=0]}\\n\")\n",
    "            x_hat = x_k\n",
    "        x_iters.append(x_k)\n",
    "        \n",
    "        err = np.linalg.norm(A@x_k-y,2) #l2-error\n",
    "        err_iters[i] = err\n",
    "        print(f\"err iteration {i}: {err}\")\n",
    "    return x_hat, x_iters, err_iters"
   ]
  },
  {
   "cell_type": "markdown",
   "metadata": {},
   "source": [
    "Run the iterative hard thresholding algorithm."
   ]
  },
  {
   "cell_type": "code",
   "execution_count": null,
   "metadata": {
    "scrolled": false
   },
   "outputs": [],
   "source": [
    "n_iters = 100\n",
    "x_hat, x_iters, err_iters = iht(B,z,10,n_iters)"
   ]
  },
  {
   "cell_type": "code",
   "execution_count": null,
   "metadata": {},
   "outputs": [],
   "source": [
    "err = np.linalg.norm(x_hat-x_true,2) #l2-error\n",
    "print(err)"
   ]
  }
 ],
 "metadata": {
  "kernelspec": {
   "display_name": "Python 3",
   "language": "python",
   "name": "python3"
  },
  "language_info": {
   "codemirror_mode": {
    "name": "ipython",
    "version": 3
   },
   "file_extension": ".py",
   "mimetype": "text/x-python",
   "name": "python",
   "nbconvert_exporter": "python",
   "pygments_lexer": "ipython3",
   "version": "3.8.5"
  }
 },
 "nbformat": 4,
 "nbformat_minor": 4
}
