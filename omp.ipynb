{
 "cells": [
  {
   "cell_type": "markdown",
   "metadata": {},
   "source": [
    "# $\\color{teal}{\\text{4.4 Orthogonal Matching Pursuit}}$\n",
    "\n",
    "This algorithm is a representant of so-called greedy methods. Since the original $\\color{green}{(P_{0,\\eta})}$ is NP-hard, we use the OMP as an approximation method. It iteratively constructs the support set of the reconstructed sparse vector by extending the current support set with an additional index at each iteration. One drawback of this algorithm is that if a wrong index has been selected, it will remain in all subsequent index sets. The initial support set shall be the empty set and $x^{(0)}$ shall be equal to the all-zero vector. Further, the residual $r^{(0)}$ is chosen to be $y$.\n",
    "\n",
    "Each iteration of the OMP algorithms covers mainly two steps denoted by `OMP_1` and `OMP_2` and mathematically expressed as\n",
    "\n",
    "$$ j_{k+1} = \\underset{j \\in [N]}{\\mathrm{argmax}} \\{|a^{*}_j \\cdot r^{(k)}|\\}, \\;\\;\\; S^{(k+1)}=S^{(k)} \\cup \\{j_{k+1}\\}$$\n",
    "and \n",
    "$$ x^{(k+1)} = \\underset{z \\in \\mathbb{C}^{N}}{\\mathrm{argmin}} \\{||y-Az||_2\\} \\;\\;\\; \\text{s.t. supp}(z) \\subset S^{(k+1)} $$\n",
    "\n",
    "We further introduce the residual term $r^{k+1} = y - Ax^{(k+1)}$, which can be understood as an error term. The desired output of the algorithm is an $\\bar{n}$-sparse vector, where $\\bar{n}$ denotes the number of iterations needed for the recovery of $x$. Since `OMP_2` is a least squares problem, we can calculate $x^{(k+1)}$ using the pseudoinverse $A^{\\dagger}_{S^{(k+1)}} \\in \\mathbb{C}^{N \\times m}$ that is restricted to the set $S^{(k+1)}$ via\n",
    "\n",
    "$$ x^{(k+1)}=A^{\\dagger}_{S^{(k+1)}}y = (A^{*}_{S^{(k+1)}}A_{S^{(k+1)}})^{-1}A^{*}_{S^{(k+1)}}y.$$\n",
    "\n",
    "Restricting a matrix on a support set means that that we take all columns indicated in the support set and set the other ones to zero."
   ]
  },
  {
   "cell_type": "code",
   "execution_count": null,
   "metadata": {},
   "outputs": [],
   "source": [
    "import numpy as np\n",
    "import random\n",
    "import math\n",
    "\n",
    "#omp\n",
    "m = 200\n",
    "N = 175\n",
    "s = 30\n",
    "\n",
    "#ground truth\n",
    "x_true = np.zeros(N)\n",
    "indices = random.sample(range(N),s) #randomly sample s out of 1000 indices\n",
    "x_true[indices] = np.random.rand(s)\n",
    "\n",
    "#random measurement matrix\n",
    "A = np.random.randn(m,N)\n",
    "A = A/math.sqrt(m)\n",
    "#simulated measurements\n",
    "y = A @ x_true"
   ]
  },
  {
   "cell_type": "code",
   "execution_count": null,
   "metadata": {},
   "outputs": [],
   "source": [
    "def get_max_index(residual,matrix,n_clmns):\n",
    "    matrix_T = matrix.T\n",
    "    dot_products =[np.dot(matrix_T[i].conjugate(),residual) for i in range(n_clmns)]\n",
    "    abs_vals = np.absolute(dot_products)\n",
    "    return np.argmax(abs_vals)"
   ]
  },
  {
   "cell_type": "code",
   "execution_count": null,
   "metadata": {},
   "outputs": [],
   "source": [
    "def restrict_on_support(matrix,support_set):\n",
    "    \"\"\"Restrict matrix on support set by copying all elements in the columns indicated by \n",
    "    support_set and setting the other ones to zero.\"\"\"\n",
    "    \n",
    "    [rows,clms] = matrix.shape\n",
    "    matrix_supp = np.zeros((rows,clms), dtype='float32')\n",
    "    matrix_supp[:,support_set] = matrix[:,support_set]\n",
    "    return matrix_supp"
   ]
  },
  {
   "cell_type": "code",
   "execution_count": null,
   "metadata": {},
   "outputs": [],
   "source": [
    "def omp(A,y,iters):\n",
    "    \"\"\"Implementation of the Orthogonal Matching Pursuit.\"\"\"   \n",
    "    from numpy.linalg import pinv\n",
    "    \n",
    "    [m,N] = A.shape\n",
    "    #Initializations\n",
    "    x_iters = []\n",
    "    support_set = []\n",
    "    err_iters = np.zeros(iters)\n",
    "    x_0 = np.zeros(N)\n",
    "    r_0 = y\n",
    "    \n",
    "    #Iteration\n",
    "    for i in range(iters):\n",
    "        if i==0:\n",
    "            residual = r_0\n",
    "        print(f\"residual: \\n {residual[50]}\")\n",
    "        index = get_max_index(residual,A,N)\n",
    "        print(f\"index: {index}\")\n",
    "        support_set.append(index)\n",
    "        print(support_set)\n",
    "        \n",
    "        A_r = restrict_on_support(A,support_set)       \n",
    "        x_new = np.linalg.pinv(A_r)@y\n",
    "        \n",
    "        print(f\"x_new: \\n {sum(x_new)}\")\n",
    "        residual = y - A@x_new\n",
    "        x_iters.append(x_new)\n",
    "        \n",
    "        err = np.linalg.norm(A@x_new-y,2) #l2-error\n",
    "        err_iters[i] = err\n",
    "        print(f\"err iteration {i}: {err}\")\n",
    "    \n",
    "    return x_new, x_iters, err_iters"
   ]
  },
  {
   "cell_type": "code",
   "execution_count": null,
   "metadata": {},
   "outputs": [],
   "source": [
    "n_iters = 100\n",
    "x_hat, x_iters, err_iters = omp(A,y,n_iters)"
   ]
  },
  {
   "cell_type": "code",
   "execution_count": null,
   "metadata": {},
   "outputs": [],
   "source": [
    "err = np.linalg.norm(x_hat-x_true,2) #l2-error\n",
    "print(err)"
   ]
  }
 ],
 "metadata": {
  "kernelspec": {
   "display_name": "Python 3",
   "language": "python",
   "name": "python3"
  },
  "language_info": {
   "codemirror_mode": {
    "name": "ipython",
    "version": 3
   },
   "file_extension": ".py",
   "mimetype": "text/x-python",
   "name": "python",
   "nbconvert_exporter": "python",
   "pygments_lexer": "ipython3",
   "version": "3.8.5"
  }
 },
 "nbformat": 4,
 "nbformat_minor": 4
}
