{
 "cells": [
  {
   "cell_type": "markdown",
   "metadata": {},
   "source": [
    "# $\\color{teal}{\\text{4.2 Iteratively Reweighted Least Squares}}$\n",
    "Due to the sparsity favoring property of the l1-norm and some other assumptions, the l1-minimization can be used as an approximation of the P0 problem in CS. One algorithm to solve the P1 problem is called iteratively reweighted least squares (IRLS) algorithm that iteratively solves weigthed l2-minimization problems. Unfortunately, the IRLS is just a proxy and the convergence to the l1-minimizer is not guaranteed. Nevertheless, if the measurement matrix A satisfies the (stable) NSP, the IRLS recovers every s-sparse vector from y=AX, and provides similar error estimates as the l1-minimizer.  \n",
    "\n",
    "We observe that $|t| = \\frac{|t|^2}{|t|}$ for all $t \\neq 0$. By this trivial reformulation, we can recast the l1-minimization as a weighted least squares problem. Assume that for $A \\in \\mathbb{C}^{m \\times N}$ with $m \\leq N$ we have that $x^{\\#}$ is a minimizer of\n",
    "\n",
    "$$ \\underset{x \\in \\mathbb{C}^{N}}{\\mathrm{min}} ||x||_1 \\;\\;\\; \\text{subject to } Ax=y.$$\n",
    "\n",
    "If $x^{\\#}_j \\neq 0$ for all $j \\in [N]$, then it also minimizer the weigthed l2-problem given as\n",
    "\n",
    "$$ \\underset{x \\in \\mathbb{C}^{N}}{\\mathrm{min}} \\sum_{j=1}^{N} \\frac{|x_j|^{2}}{|x^{\\#}_j|} \\;\\;\\; \\text{subject to } Ax=y.$$\n",
    "\n",
    "This reformulation simplifies our calculations, since minimizing the smooth quadratic function $|t|^{2}$ is easier than minimizing the nonsmooth function $|t|$. But this comes with a cost: we do not know $x^{\\#}$ in advance, neither can we expect that $x^{\\#}_j \\neq 0$ for all $j \\in [N]$, since we target sparse solutions. If the l1-minimizer $x^{\\#} \\in \\mathbb{R}^{N}$ is unique, then it is $m$-sparse. We further introduce the functional \n",
    "\n",
    "$$\\mathcal{J}(x,w,\\epsilon) = \\frac{1}{2}\\left[\\sum_{j=1}^{N}|x_j|^{2}w_j + \\sum_{j=1}^{N}(\\epsilon^2w_j + \\frac{1}{w_j})\\right]$$\n",
    "\n",
    "with $x \\in \\mathbb{C}^{N}, \\epsilon \\geq 0$ and $w \\in \\mathbb{R}^{N}_{+}$. We denote by $(x^{(n)})^{*}$ the nonincreasing rearrangement of the iterate $x^{(n)}$."
   ]
  },
  {
   "cell_type": "code",
   "execution_count": 85,
   "metadata": {},
   "outputs": [],
   "source": [
    "import numpy as np\n",
    "import random\n",
    "import math\n",
    "\n",
    "#omp\n",
    "m = 300\n",
    "N = 1000\n",
    "s = 30\n",
    "gamma = 1/(2*N)\n",
    "\n",
    "#ground truth\n",
    "x_true = np.zeros(N)\n",
    "indices = random.sample(range(N),s) #randomly sample s out of 1000 indices\n",
    "x_true[indices] = np.random.rand(s)\n",
    "\n",
    "#random measurement matrix\n",
    "A = np.random.randn(m,N)\n",
    "A = A/math.sqrt(m)\n",
    "#simulated measurements\n",
    "y = A @ x_true"
   ]
  },
  {
   "cell_type": "code",
   "execution_count": 86,
   "metadata": {},
   "outputs": [],
   "source": [
    "def restrict_on_support(matrix,support_set):\n",
    "    \"\"\"Restrict matrix on support set by copying all elements in the columns indicated by \n",
    "    support_set and setting the other ones to zero.\"\"\"\n",
    "    \n",
    "    [rows,clms] = matrix.shape\n",
    "    matrix_supp = np.zeros((rows,clms), dtype='float32')\n",
    "    matrix_supp[:,support_set] = matrix[:,support_set]\n",
    "    return matrix_supp"
   ]
  },
  {
   "cell_type": "code",
   "execution_count": 87,
   "metadata": {},
   "outputs": [],
   "source": [
    "def rearrange_non_inc(vector):\n",
    "    vector_ = np.sort(vector)\n",
    "    vector_non_inc = vector_[::-1]\n",
    "    return vector_non_inc"
   ]
  },
  {
   "cell_type": "code",
   "execution_count": 88,
   "metadata": {},
   "outputs": [],
   "source": [
    "def irls(A,y,gamma,s, iters):\n",
    "    #initialization:\n",
    "    w_0 = np.ones(N)\n",
    "    epsilon_0 = 1\n",
    "    \n",
    "    #IRLS1:\n",
    "    for i in range(iters):\n",
    "        if i==0:\n",
    "            w_0_sqrt = np.array([math.sqrt(w) for w in w_0])\n",
    "            D_sqrt = np.diag(w_0_sqrt)\n",
    "            D_sqrt_inv = np.linalg.inv(D_sqrt)\n",
    "            epsilon = epsilon_0\n",
    "        \n",
    "        x_new = D_sqrt_inv@np.linalg.pinv(A@D_sqrt_inv)@y\n",
    "        epsilon_new = min(epsilon, gamma*rearrange_non_inc(x_new)[s])\n",
    "        w_new = np.array([math.sqrt(np.absolute(x_j)**2+epsilon_new**2) for x_j in x_new])\n",
    "        \n",
    "        epsilon = epsilon_new\n",
    "        \n",
    "        w_sqrt = np.array([math.sqrt(w) for w in w_new])\n",
    "        D_sqrt = np.diag(w_sqrt)\n",
    "        D_sqrt_inv = np.linalg.inv(D_sqrt) \n",
    "        \n",
    "        err = np.linalg.norm(A@x_new-y,2) #l2-error\n",
    "        print(err)\n",
    "        \n",
    "    return x_new\n",
    "        "
   ]
  },
  {
   "cell_type": "code",
   "execution_count": 89,
   "metadata": {
    "scrolled": true
   },
   "outputs": [
    {
     "name": "stdout",
     "output_type": "stream",
     "text": [
      "6.690276343932392e-15\n",
      "1.891850412693194e-14\n",
      "7.458180063323482e-15\n",
      "1.08438910405026e-14\n",
      "7.422411672947018e-15\n",
      "1.0418250227924591e-14\n",
      "7.527609659004484e-15\n",
      "1.2974521875780226e-14\n",
      "6.90474826949231e-15\n",
      "1.2925955316186398e-14\n",
      "8.370568587257576e-15\n",
      "1.2307402294249415e-14\n",
      "7.528886795876672e-15\n",
      "1.1245400025240368e-14\n",
      "8.32144320035038e-15\n",
      "1.1932747701187256e-14\n",
      "8.228712921147796e-15\n",
      "1.1006493327021882e-14\n",
      "9.520455332191001e-15\n",
      "1.0819027938058294e-14\n",
      "8.43372641779954e-15\n",
      "1.2025511534293928e-14\n",
      "9.122003316772356e-15\n",
      "1.0827515977843024e-14\n",
      "8.158238567340206e-15\n",
      "1.1549316390981457e-14\n",
      "7.167948982812606e-15\n",
      "1.2423672438608433e-14\n",
      "8.040618138314116e-15\n",
      "1.2471533085232877e-14\n",
      "7.910038511511248e-15\n",
      "1.216303601157606e-14\n",
      "8.153329748280716e-15\n",
      "1.1541753045539637e-14\n",
      "9.581004531879411e-15\n",
      "1.3873626775008396e-14\n",
      "9.380310719472599e-15\n",
      "1.2615128579860495e-14\n",
      "8.10261481529658e-15\n",
      "1.2496561069687757e-14\n",
      "8.589555811998676e-15\n",
      "1.4027065954348477e-14\n",
      "1.0072277946506053e-14\n",
      "1.0987266737232566e-14\n",
      "8.868116502689092e-15\n",
      "1.1993810369678124e-14\n",
      "9.66713992929825e-15\n",
      "1.3631643393468285e-14\n",
      "8.627372397873007e-15\n",
      "1.3298988232459394e-14\n",
      "8.374319905689397e-15\n",
      "1.2843306278397284e-14\n",
      "8.753149685867732e-15\n",
      "1.365876100621431e-14\n",
      "9.878632780846985e-15\n",
      "1.2527539280216972e-14\n",
      "7.96435975647743e-15\n",
      "1.2721798720643167e-14\n",
      "9.372869385788644e-15\n",
      "1.449428972521228e-14\n",
      "9.135920650975853e-15\n",
      "1.8308412673509727e-14\n",
      "8.088637635093587e-15\n",
      "1.9868491813652764e-14\n",
      "7.87059153302634e-15\n",
      "1.8187977127216683e-14\n",
      "8.23498307124452e-15\n",
      "1.735166554503767e-14\n",
      "7.9394552590047e-15\n",
      "1.71267431117882e-14\n",
      "7.622279708869202e-15\n",
      "1.6098870813239936e-14\n",
      "8.199123301027197e-15\n",
      "1.5260041775902958e-14\n",
      "8.40130358331841e-15\n",
      "1.5618906863025555e-14\n",
      "7.749255826447747e-15\n",
      "1.3103571340340419e-14\n",
      "8.112283405825703e-15\n",
      "1.364884256192163e-14\n",
      "9.052918353900065e-15\n",
      "1.327156325938191e-14\n",
      "8.42837711619113e-15\n",
      "1.2987916254375952e-14\n",
      "7.686396514983381e-15\n",
      "1.261028615772419e-14\n",
      "9.462499805234092e-15\n",
      "1.2387128690389468e-14\n",
      "8.803061309990438e-15\n",
      "1.2646347944516665e-14\n",
      "9.281914146528062e-15\n",
      "1.30988545810594e-14\n",
      "8.163350640202577e-15\n",
      "1.2065811743124712e-14\n",
      "8.192043493445403e-15\n",
      "1.2465950660218418e-14\n",
      "8.927651056995375e-15\n",
      "1.1152549908958301e-14\n",
      "7.851940105430776e-15\n",
      "1.164243386851291e-14\n"
     ]
    }
   ],
   "source": [
    "n_iters = 100\n",
    "x_hat = irls(A,y,gamma,s,n_iters)"
   ]
  },
  {
   "cell_type": "code",
   "execution_count": 84,
   "metadata": {},
   "outputs": [
    {
     "name": "stdout",
     "output_type": "stream",
     "text": [
      "1.389000953686155e-09\n"
     ]
    }
   ],
   "source": [
    "err = np.linalg.norm(x_hat-x_true,2) #l2-error\n",
    "print(err)"
   ]
  }
 ],
 "metadata": {
  "kernelspec": {
   "display_name": "Python 3",
   "language": "python",
   "name": "python3"
  },
  "language_info": {
   "codemirror_mode": {
    "name": "ipython",
    "version": 3
   },
   "file_extension": ".py",
   "mimetype": "text/x-python",
   "name": "python",
   "nbconvert_exporter": "python",
   "pygments_lexer": "ipython3",
   "version": "3.8.5"
  }
 },
 "nbformat": 4,
 "nbformat_minor": 4
}
